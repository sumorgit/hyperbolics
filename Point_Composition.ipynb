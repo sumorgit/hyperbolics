{
  "nbformat": 4,
  "nbformat_minor": 0,
  "metadata": {
    "colab": {
      "provenance": [],
      "include_colab_link": true
    },
    "kernelspec": {
      "name": "python3",
      "display_name": "Python 3"
    },
    "language_info": {
      "name": "python"
    }
  },
  "cells": [
    {
      "cell_type": "markdown",
      "metadata": {
        "id": "view-in-github",
        "colab_type": "text"
      },
      "source": [
        "<a href=\"https://colab.research.google.com/github/sumorgit/hyperbolics/blob/master/Point_Composition.ipynb\" target=\"_parent\"><img src=\"https://colab.research.google.com/assets/colab-badge.svg\" alt=\"Open In Colab\"/></a>"
      ]
    },
    {
      "cell_type": "code",
      "execution_count": null,
      "metadata": {
        "colab": {
          "base_uri": "https://localhost:8080/"
        },
        "id": "7CYQKqV5sF1c",
        "outputId": "25b0d90a-623a-4f1e-9bcc-57a1162611b8"
      },
      "outputs": [
        {
          "output_type": "stream",
          "name": "stdout",
          "text": [
            "Looking in indexes: https://pypi.org/simple, https://us-python.pkg.dev/colab-wheels/public/simple/\n",
            "Collecting mctorch-lib\n",
            "  Downloading mctorch_lib-0.1.0-py3-none-any.whl (19 kB)\n",
            "Requirement already satisfied: torch in /usr/local/lib/python3.7/dist-packages (from mctorch-lib) (1.12.1+cu113)\n",
            "Requirement already satisfied: numpy in /usr/local/lib/python3.7/dist-packages (from mctorch-lib) (1.21.6)\n",
            "Requirement already satisfied: typing-extensions in /usr/local/lib/python3.7/dist-packages (from torch->mctorch-lib) (4.1.1)\n",
            "Installing collected packages: mctorch-lib\n",
            "Successfully installed mctorch-lib-0.1.0\n"
          ]
        }
      ],
      "source": [
        "!pip install mctorch-lib"
      ]
    },
    {
      "cell_type": "markdown",
      "source": [
        "Sample two initial points from the manifold "
      ],
      "metadata": {
        "id": "9qvseQRyw-T1"
      }
    },
    {
      "cell_type": "code",
      "source": [
        "import torch\n",
        "import mctorch.nn as mnn\n",
        "\n",
        "# sa\n",
        "point_a = mnn.Parameter(manifold=mnn.Hyperbolic(2))\n",
        "point_b = mnn.Parameter(manifold=mnn.Hyperbolic(2))\n",
        "\n",
        "print(point_a)\n",
        "print(point_b)\n"
      ],
      "metadata": {
        "id": "icIjBFdGwBjJ",
        "colab": {
          "base_uri": "https://localhost:8080/"
        },
        "outputId": "7bf22610-4d59-4caa-bd5b-592a832c80f0"
      },
      "execution_count": null,
      "outputs": [
        {
          "output_type": "stream",
          "name": "stdout",
          "text": [
            "Parameter containing:\n",
            "Parameter(Parameter([ 2.0285, -1.7648], requires_grad=True))\n",
            "Parameter containing:\n",
            "Parameter(Parameter([ 1.0080, -0.1271], requires_grad=True))\n"
          ]
        }
      ]
    },
    {
      "cell_type": "code",
      "source": [
        "import matplotlib.pyplot as plt\n",
        "import numpy as np\n",
        "plt.plot([[2.0285, -1.7648],[1.0080, -0.1271]])\n",
        "plt.show\n",
        "plt.scatter([2.0285, 1.0080],[-1.7648, -0.1271])\n",
        "plt.show"
      ],
      "metadata": {
        "id": "IM_ypf-ryexC",
        "colab": {
          "base_uri": "https://localhost:8080/",
          "height": 283
        },
        "outputId": "b7e49332-6600-477c-c9ff-82b563b12b30"
      },
      "execution_count": 11,
      "outputs": [
        {
          "output_type": "execute_result",
          "data": {
            "text/plain": [
              "<function matplotlib.pyplot.show(*args, **kw)>"
            ]
          },
          "metadata": {},
          "execution_count": 11
        },
        {
          "output_type": "display_data",
          "data": {
            "text/plain": [
              "<Figure size 432x288 with 1 Axes>"
            ],
            "image/png": "[encoded data removed]"
          },
          "metadata": {
            "needs_background": "light"
          }
        }
      ]
    },
    {
      "cell_type": "code",
      "source": [],
      "metadata": {
        "id": "eSIFXXG_4vNt"
      },
      "execution_count": null,
      "outputs": []
    }
  ]
}